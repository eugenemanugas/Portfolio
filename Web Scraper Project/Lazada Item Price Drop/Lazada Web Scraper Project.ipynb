{
 "cells": [
  {
   "cell_type": "code",
   "execution_count": null,
   "id": "78d1860d",
   "metadata": {},
   "outputs": [],
   "source": [
    "# Import libraries\n",
    "\n",
    "from bs4 import BeautifulSoup\n",
    "import requests\n",
    "import time\n",
    "import datetime\n",
    "import csv\n",
    "import pandas as pd\n",
    "\n",
    "import smtplib # for email (optional)"
   ]
  },
  {
   "cell_type": "code",
   "execution_count": null,
   "id": "80699232",
   "metadata": {},
   "outputs": [],
   "source": [
    "# Connect to website\n",
    "# run once at the start\n",
    "\n",
    "URL = 'https://www.lazada.com.ph/products/lenovo-legion-7-r9000k-rtx-3080-16-inch-r9-5900hx-32gb-ram-1tb-2tb-ssd-25k-165hz-i2704888578-s12925837644.html?clickTrackInfo=undefined&search=1&spm=a2o4l.searchlist.list.6'\n",
    "headers = {\"User-Agent\": \"Mozilla/5.0 (Windows NT 10.0; Win64; x64) AppleWebKit/537.36 (KHTML, like Gecko) Chrome/106.0.0.0 Safari/537.36\",\"Accept\": \"text/html,application/xhtml+xml,application/xml;q=0.9,image/avif,image/webp,image/apng,*/*;q=0.8,application/signed-exchange;v=b3;q=0.9\",\"Accept-Encoding\": \"gzip, deflate\",\"Accept-Language\": \"en-PH,en-US;q=0.9,en;q=0.8\"}\n",
    "page = requests.get(URL, headers=headers)\n",
    "\n",
    "# Parse the page\n",
    "\n",
    "soup1 = BeautifulSoup(page.content, 'html.parser')\n",
    "soup2 = BeautifulSoup(soup1.prettify(), 'html.parser')\n",
    "\n",
    "# find your data\n",
    "\n",
    "title = soup2.find(id=\"module_product_title_1\").get_text()\n",
    "price = soup2.find(id=\"module_product_price_1\").get_text()\n",
    "\n",
    "\n",
    "#print (title)\n",
    "#print (price)"
   ]
  },
  {
   "cell_type": "code",
   "execution_count": null,
   "id": "e5fa44bc",
   "metadata": {},
   "outputs": [],
   "source": [
    "# get the date of the day\n",
    "# run once at the start\n",
    "\n",
    "today = datetime.date.today()"
   ]
  },
  {
   "cell_type": "code",
   "execution_count": null,
   "id": "3925465a",
   "metadata": {},
   "outputs": [],
   "source": [
    "# clean data (remove spaces, units, unwanted data)\n",
    "# run once at the start\n",
    "\n",
    "title = title.strip()\n",
    "price = price.strip()[1:]\n",
    "price = price.split(' ',1)[0]\n",
    "\n",
    "#print (title)\n",
    "#print (price)"
   ]
  },
  {
   "cell_type": "code",
   "execution_count": null,
   "id": "26a47a0d",
   "metadata": {},
   "outputs": [],
   "source": [
    "# create dataset\n",
    "# run once at the start\n",
    "\n",
    "header = ['Title','Price','Date']\n",
    "data = [title,price,today]\n",
    "\n",
    "# create csv file for clean data\n",
    "# write header and data\n",
    "\n",
    "with open('LazadaWebScraperDataset.csv', 'w', newline='', encoding='UTF8') as f:\n",
    "    writer = csv.writer(f)\n",
    "    writer.writerow(header)\n",
    "    writer.writerow(data)\n",
    "    "
   ]
  },
  {
   "cell_type": "code",
   "execution_count": null,
   "id": "aebdee0f",
   "metadata": {},
   "outputs": [],
   "source": [
    "# email service function\n",
    "\n",
    "def send_email():\n",
    "    port = 465  # For SSL\n",
    "    user = 'myself@gmail.com'\n",
    "    password = 'XXXXXXXX'\n",
    "\n",
    "    # Create a secure SSL context\n",
    "    context = ssl.create_default_context()\n",
    "\n",
    "    with smtplib.SMTP_SSL(\"smtp.gmail.com\", port, context=context) as server:\n",
    "        server.login(user, password)\n",
    "        # TODO: Send email here"
   ]
  },
  {
   "cell_type": "code",
   "execution_count": null,
   "id": "9f165e9b",
   "metadata": {},
   "outputs": [],
   "source": [
    "# create append funtcion\n",
    "\n",
    "def check_price():\n",
    "    URL = 'https://www.lazada.com.ph/products/lenovo-ideapad-gaming-3-geforce-rtx-3050-ti-graphics-amd-ryzen-5-5600h-processor-156-inch-full-hd-1920x1080-120hz-ips-display-8gb-ddr4-ram-memory-512gb-ssd-m2-storage-win-11-home-gaming-laptop-82k20036ph-shadow-black-i2983374618-s14619324757.html?spm=a2o4l.tm80188550.5229348290.26.45fajWSIjWSIug.45fajWSIjWSIug&search=campaign&clickTrackInfo=%7B%22rs%22%3A%2220.1931%22%2C%22app_bztag%22%3A%22%22%2C%22spma%22%3A%22a2o4l%22%2C%22moduleUUID%22%3A%225229348290%22%2C%22spmb%22%3A%22tm80188550%22%2C%22type%22%3A%22itemFall%22%2C%22pageTypeTop%22%3A%22MCP%22%2C%22userid%22%3A%220%22%2C%22platform%22%3A%22pc%22%2C%22itemid%22%3A%222983374618%22%2C%22gmv%22%3A%220.0%22%2C%22bs%22%3A%220.009000000543892384%22%2C%22ctr_score%22%3A%220.4174024%22%2C%22ts2%22%3A%220.9966344237327576%22%2C%22ccr_score%22%3A%220.1101608%22%2C%22pvid%22%3A%22e800f6c5-0811-4a08-8531-44111982e516%22%2C%22pos%22%3A%2212%22%2C%22cvr_score%22%3A%220.00129%22%2C%22juno_layer_bucket%22%3A%22%22%2C%22scm%22%3A%221007.26359.270999%22%2C%22bztag%22%3A%22%22%2C%22pageTypeOne%22%3A%22Organic%22%2C%22linkInfo%22%3A%22null%22%2C%22enable_smui_template%22%3A%22%22%2C%22ms%22%3A%220.009%22%2C%22mt%22%3A%22SWI2I%22%2C%22i14d%22%3A%220.09452865272760391%22%2C%22is%22%3A%2244%22%2C%22tr_id%22%3A%22616368624%22%2C%22traffic_source%22%3A%22paid%22%2C%22venture%22%3A%22ph%22%2C%22i30d%22%3A%220.0362231619656086%22%2C%22smui_template%22%3A%22-1%22%2C%22domain%22%3A%22bumblebee%22%2C%22pg%22%3A%2280188550%22%2C%22i7d%22%3A%220.09452865272760391%22%2C%22ids%22%3A%220%22%2C%22rank1_score%22%3A%220.1931453491350647%22%2C%22i3d%22%3A%220.09452865272760391%22%2C%22config%22%3A%22-8791857438621748806%22%2C%22i1d%22%3A%220.20654329657554626%22%2C%22enable_smui%22%3A%22false%22%7D'\n",
    "\n",
    "    headers = {\"User-Agent\": \"Mozilla/5.0 (Windows NT 10.0; Win64; x64) AppleWebKit/537.36 (KHTML, like Gecko) Chrome/106.0.0.0 Safari/537.36\",\"Accept\": \"text/html,application/xhtml+xml,application/xml;q=0.9,image/avif,image/webp,image/apng,*/*;q=0.8,application/signed-exchange;v=b3;q=0.9\",\"Accept-Encoding\": \"gzip, deflate\",\"Accept-Language\": \"en-PH,en-US;q=0.9,en;q=0.8\"}\n",
    "\n",
    "    page = requests.get(URL, headers=headers)\n",
    "    \n",
    "    today = datetime.date.today()\n",
    "\n",
    "    soup1 = BeautifulSoup(page.content, 'html.parser')\n",
    "    soup2 = BeautifulSoup(soup1.prettify(), 'html.parser')\n",
    "\n",
    "    title = soup2.find(id=\"module_product_title_1\").get_text()    \n",
    "    title = title.strip()\n",
    "\n",
    "    price = soup2.find(id=\"module_product_price_1\").get_text()    \n",
    "    price = price.strip()[1:]\n",
    "    price = price.split(' ',1)[0]\n",
    "    \n",
    "    header = ['Title','Price','Date']\n",
    "    data = [title,price,today]\n",
    "\n",
    "    with open('LazadaWebScraperDataset.csv', 'a+', newline='', encoding='UTF8') as f:\n",
    "        writer = csv.writer(f)\n",
    "        writer.writerow(data)\n",
    "    \n",
    "    "
   ]
  },
  {
   "cell_type": "code",
   "execution_count": null,
   "id": "be5cb8a5",
   "metadata": {},
   "outputs": [],
   "source": [
    "# scrape item price daily\n",
    "# run this in the background\n",
    "\n",
    "# Import libraries\n",
    "\n",
    "from bs4 import BeautifulSoup\n",
    "import requests\n",
    "import time\n",
    "import datetime\n",
    "import csv\n",
    "import pandas as pd\n",
    "import smtplib\n",
    "\n",
    "while(True):\n",
    "    price_old = price\n",
    "    check_price()\n",
    "    if (price<price_old)\n",
    "    send_email() # email will be sent if price is lower than previous\n",
    "    time.sleep(86400) # in seconds"
   ]
  },
  {
   "cell_type": "code",
   "execution_count": null,
   "id": "3ac7980c",
   "metadata": {},
   "outputs": [],
   "source": [
    "# read data\n",
    "#df = pd.read_csv(r'C:\\Users\\euman\\LazadaWebScraperDataset.csv')\n",
    "#print (df)"
   ]
  }
 ],
 "metadata": {
  "kernelspec": {
   "display_name": "Python 3 (ipykernel)",
   "language": "python",
   "name": "python3"
  },
  "language_info": {
   "codemirror_mode": {
    "name": "ipython",
    "version": 3
   },
   "file_extension": ".py",
   "mimetype": "text/x-python",
   "name": "python",
   "nbconvert_exporter": "python",
   "pygments_lexer": "ipython3",
   "version": "3.9.12"
  }
 },
 "nbformat": 4,
 "nbformat_minor": 5
}
