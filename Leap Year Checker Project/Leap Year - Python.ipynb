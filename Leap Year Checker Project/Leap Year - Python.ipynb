{
 "cells": [
  {
   "cell_type": "code",
   "execution_count": 38,
   "metadata": {},
   "outputs": [
    {
     "name": "stdout",
     "output_type": "stream",
     "text": [
      "Year entered is invalid!\n"
     ]
    }
   ],
   "source": [
    "### Leap Year Checker\n",
    "\n",
    "#input year to check\n",
    "\n",
    "year = input(\"Enter a year: \")\n",
    "\n",
    "#check if input is an integer\n",
    "\n",
    "try:\n",
    "    year=int(year)\n",
    "\n",
    "#leap years are century years divisible by 400 and non century years divisible by 4\n",
    "#non leap years are century years divisible by 100 and non century years not divisible by 4\n",
    "\n",
    "    if (year % 400 == 0):\n",
    "        print(\"Yes\")\n",
    "    elif (year % 100 == 0):\n",
    "        print(\"No\")\n",
    "    elif (year % 4 == 0):\n",
    "        print(\"Yes\")\n",
    "    else:\n",
    "        print(\"No\")\n",
    "\n",
    "except ValueError:  #triggered when year is not an integer\n",
    "    print(\"Year entered is invalid!\")\n"
   ]
  },
  {
   "cell_type": "code",
   "execution_count": null,
   "metadata": {},
   "outputs": [],
   "source": []
  }
 ],
 "metadata": {
  "kernelspec": {
   "display_name": "Python 3.9.12 64-bit",
   "language": "python",
   "name": "python3"
  },
  "language_info": {
   "codemirror_mode": {
    "name": "ipython",
    "version": 3
   },
   "file_extension": ".py",
   "mimetype": "text/x-python",
   "name": "python",
   "nbconvert_exporter": "python",
   "pygments_lexer": "ipython3",
   "version": "3.9.12"
  },
  "orig_nbformat": 4,
  "vscode": {
   "interpreter": {
    "hash": "11938c6bc6919ae2720b4d5011047913343b08a43b18698fd82dedb0d4417594"
   }
  }
 },
 "nbformat": 4,
 "nbformat_minor": 2
}
